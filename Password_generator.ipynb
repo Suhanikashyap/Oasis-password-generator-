{
  "nbformat": 4,
  "nbformat_minor": 0,
  "metadata": {
    "colab": {
      "provenance": [],
      "authorship_tag": "ABX9TyPLwfbfQOjPfOfpEFN1b/zM",
      "include_colab_link": true
    },
    "kernelspec": {
      "name": "python3",
      "display_name": "Python 3"
    },
    "language_info": {
      "name": "python"
    }
  },
  "cells": [
    {
      "cell_type": "markdown",
      "metadata": {
        "id": "view-in-github",
        "colab_type": "text"
      },
      "source": [
        "<a href=\"https://colab.research.google.com/github/Suhanikashyap/Oasis-password-generator-/blob/main/Password_generator.ipynb\" target=\"_parent\"><img src=\"https://colab.research.google.com/assets/colab-badge.svg\" alt=\"Open In Colab\"/></a>"
      ]
    },
    {
      "cell_type": "code",
      "source": [
        "import random\n",
        "\n",
        "def g(l):\n",
        "    a = \"abcdefghijklmnopqrstuvwxyz\"\n",
        "    p = []\n",
        "\n",
        "    for b in l:\n",
        "        w = \"\"\n",
        "        for c in range(b):\n",
        "            n = random.randrange(len(a))\n",
        "            w += a[n]\n",
        "\n",
        "        w = r_n(w)\n",
        "        w = r_u(w)\n",
        "        p.append(w)\n",
        "\n",
        "    return p\n",
        "\n",
        "def r_n(w):\n",
        "    for d in range(random.randrange(1,3)):\n",
        "        i = random.randrange(len(w)//2)\n",
        "        w = w[0:i] + str(random.randrange(10)) + w[i+1:]\n",
        "        return w\n",
        "\n",
        "def r_u(w):\n",
        "    for e in range(random.randrange(1,3)):\n",
        "        i = random.randrange(len(w)//2,len(w))\n",
        "        w = w[0:i] + w[i].upper() + w[i+1:]\n",
        "        return w\n",
        "\n",
        "n = int(input(\"How many passwords do you want to generate? \"))\n",
        "print(\"Generating \" +str(n)+\" passwords\")\n",
        "l = []\n",
        "print(\"Minimum length of password should be 3\")\n",
        "\n",
        "for f in range(n):\n",
        "    s = int(input(\"Enter the length of Password #\" + str(f+1) + \" \"))\n",
        "    if s<3:\n",
        "        s = 3\n",
        "    l.append(s)\n",
        "\n",
        "pwds = g(l)\n",
        "\n",
        "for g in range(n):\n",
        "    print (\"Password #\"+str(g+1)+\" = \" + pwds[g])"
      ],
      "metadata": {
        "colab": {
          "base_uri": "https://localhost:8080/"
        },
        "id": "c-f8b0HXzftl",
        "outputId": "0a7991f1-c38b-455f-f769-06483628a8d8"
      },
      "execution_count": 1,
      "outputs": [
        {
          "output_type": "stream",
          "name": "stdout",
          "text": [
            "How many passwords do you want to generate? 1\n",
            "Generating 1 passwords\n",
            "Minimum length of password should be 3\n",
            "Enter the length of Password #1 5\n",
            "Password #1 = f4kLm\n"
          ]
        }
      ]
    }
  ]
}